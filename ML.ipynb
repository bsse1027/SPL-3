{
 "cells": [
  {
   "cell_type": "code",
   "execution_count": null,
   "id": "31849774",
   "metadata": {},
   "outputs": [],
   "source": [
    "import time\n",
    "import json\n",
    "import numpy as np\n",
    "import pandas as pd\n",
    "from pandas import json_normalize\n",
    "import matplotlib.pyplot as plt\n",
    "import json\n",
    "import ast\n",
    "import scipy.stats as stats\n",
    "import stanza\n",
    "import math\n",
    "from imblearn.over_sampling import SMOTE\n",
    "from sklearn.model_selection import train_test_split\n",
    "# import SVC classifier\n",
    "from sklearn.svm import SVC\n",
    "# import metrics to compute accuracy\n",
    "from sklearn.metrics import accuracy_score\n",
    "from sklearn.model_selection import cross_val_score\n",
    "from sklearn.linear_model import LogisticRegression\n",
    "%matplotlib inline"
   ]
  },
  {
   "cell_type": "code",
   "execution_count": null,
   "id": "18195701",
   "metadata": {},
   "outputs": [],
   "source": [
    "final_df = pd.read_csv('./finalwithDate.csv')"
   ]
  },
  {
   "cell_type": "code",
   "execution_count": null,
   "id": "b1d8068c",
   "metadata": {
    "scrolled": true
   },
   "outputs": [],
   "source": [
    "# final_df = final_df.drop(['Unnamed: 0','reason', 'trafficSource.keyword', 'hits'], axis = 1)\n",
    "final_df"
   ]
  },
  {
   "cell_type": "code",
   "execution_count": null,
   "id": "426e20e0",
   "metadata": {},
   "outputs": [],
   "source": [
    "final_df['norm_country'] = pd.factorize(final_df['geoNetwork.country'])[0]"
   ]
  },
  {
   "cell_type": "code",
   "execution_count": null,
   "id": "f38a4be4",
   "metadata": {},
   "outputs": [],
   "source": [
    "final_df['isAnomaly'].fillna(value = 0, inplace = True)\n",
    "aomalousSessions = final_df[final_df['isAnomaly'] == 1]\n",
    "len(aomalousSessions)"
   ]
  },
  {
   "cell_type": "code",
   "execution_count": null,
   "id": "70ae10d7",
   "metadata": {},
   "outputs": [],
   "source": [
    "final_df['isAnomaly'].fillna(value = 0, inplace = True)\n",
    "nonAomalousSessions = final_df[final_df['isAnomaly'] == 0]\n",
    "nonAomalousSessions"
   ]
  },
  {
   "cell_type": "code",
   "execution_count": null,
   "id": "7479408f",
   "metadata": {},
   "outputs": [],
   "source": [
    "sampled_anomaly_train = aomalousSessions.sample(frac =.50)\n",
    "sampled_anomaly_test = pd.concat([aomalousSessions, sampled_anomaly_train, sampled_anomaly_train]).drop_duplicates(keep=False)\n",
    "sampled_anomaly_train"
   ]
  },
  {
   "cell_type": "code",
   "execution_count": null,
   "id": "a31ca038",
   "metadata": {},
   "outputs": [],
   "source": [
    "sampled_nonAnomaly_train = nonAomalousSessions.sample(frac =.10)\n",
    "sampled_nonAnomaly_test = pd.concat([nonAomalousSessions, sampled_nonAnomaly_train]).drop_duplicates(keep=False)\n",
    "sampled_nonAnomaly_test"
   ]
  },
  {
   "cell_type": "code",
   "execution_count": null,
   "id": "16c0236f",
   "metadata": {},
   "outputs": [],
   "source": [
    "train_data = pd.concat([sampled_anomaly_train, sampled_nonAnomaly_train])\n",
    "train_data"
   ]
  },
  {
   "cell_type": "code",
   "execution_count": null,
   "id": "b36e0e64",
   "metadata": {},
   "outputs": [],
   "source": [
    "test_data = pd.concat([sampled_nonAnomaly_test, sampled_anomaly_test])"
   ]
  },
  {
   "cell_type": "code",
   "execution_count": null,
   "id": "6fd86e0d",
   "metadata": {},
   "outputs": [],
   "source": [
    "test_data.to_csv('./testData.csv')"
   ]
  },
  {
   "cell_type": "code",
   "execution_count": null,
   "id": "16e986cf",
   "metadata": {},
   "outputs": [],
   "source": [
    "#SMOTE Application\n",
    "pd.value_counts(train_data['isAnomaly']).plot.bar()\n",
    "plt.title('Anomaly class histogram')\n",
    "plt.xlabel('isAnomaly')\n",
    "plt.ylabel('Frequency')\n",
    "train_data['isAnomaly'].value_counts()\n",
    "\n"
   ]
  },
  {
   "cell_type": "code",
   "execution_count": null,
   "id": "b0431838",
   "metadata": {},
   "outputs": [],
   "source": [
    "X_train = train_data.drop(['isAnomaly', 'Unnamed: 0', 'device.deviceCategory', 'date', 'geoNetwork.country', 'trafficSource.keyword', 'hits', 'reason'], axis=1)\n",
    "y_train = train_data['isAnomaly']"
   ]
  },
  {
   "cell_type": "code",
   "execution_count": null,
   "id": "e9ecefae",
   "metadata": {},
   "outputs": [],
   "source": [
    "X_test = test_data.drop(['isAnomaly', 'Unnamed: 0', 'device.deviceCategory', 'date', 'geoNetwork.country', 'trafficSource.keyword', 'hits', 'reason'], axis=1)\n",
    "y_test = test_data['isAnomaly']\n",
    "y_test"
   ]
  },
  {
   "cell_type": "code",
   "execution_count": null,
   "id": "b722e7b4",
   "metadata": {},
   "outputs": [],
   "source": [
    "sm = SMOTE(random_state=2)\n",
    "X_train_res, y_train_res = sm.fit_resample(X_train, y_train.ravel())\n",
    "print('After OverSampling, the shape of train_X: {}'.format(X_train_res.shape))\n",
    "print('After OverSampling, the shape of train_y: {} \\n'.format(y_train_res.shape))\n",
    "\n",
    "print(\"After OverSampling, counts of label '1': {}\".format(sum(y_train_res==1)))\n",
    "print(\"After OverSampling, counts of label '0': {}\".format(sum(y_train_res==0)))"
   ]
  },
  {
   "cell_type": "code",
   "execution_count": null,
   "id": "f7122dd1",
   "metadata": {},
   "outputs": [],
   "source": [
    "# instantiate classifier with default hyperparameters\n",
    "svc=SVC() \n",
    "\n",
    "\n",
    "# fit classifier to training set\n",
    "svc.fit(X_train,y_train)\n",
    "y_pred=svc.predict(X_test)\n",
    "print('Model accuracy score with default hyperparameters: {0:0.4f}'. format(accuracy_score(y_test, y_pred)))"
   ]
  },
  {
   "cell_type": "code",
   "execution_count": null,
   "id": "93a9851c",
   "metadata": {},
   "outputs": [],
   "source": [
    "import pickle\n",
    "from joblib import Parallel, delayed\n",
    "import joblib\n",
    "joblib.dump(svc, 'svm.pkl')"
   ]
  },
  {
   "cell_type": "code",
   "execution_count": null,
   "id": "d7002fbf",
   "metadata": {},
   "outputs": [],
   "source": [
    "print('Training set score: {:.4f}'.format(svc.score(X_train, y_train)))\n",
    "\n",
    "print('Test set score: {:.4f}'.format(svc.score(X_test, y_test)))"
   ]
  },
  {
   "cell_type": "code",
   "execution_count": null,
   "id": "89cfb03e",
   "metadata": {},
   "outputs": [],
   "source": [
    "# clf = svm.SVC(kernel='linear', C=1, random_state=42)\n",
    "scores = cross_val_score(svc, X_train, y_train, cv=5)\n",
    "# print(\"%0.2f accuracy with a standard deviation of %0.4f\" % (scores.mean(), scores.std()))\n",
    "scores"
   ]
  },
  {
   "cell_type": "code",
   "execution_count": null,
   "id": "954a71bd",
   "metadata": {},
   "outputs": [],
   "source": [
    "#Logistic Regression Starts\n",
    "logreg = LogisticRegression(solver='liblinear', random_state=0)\n",
    "logreg.fit(X_train, y_train)\n",
    "y_pred_test = logreg.predict(X_test)"
   ]
  },
  {
   "cell_type": "code",
   "execution_count": null,
   "id": "aee4bf36",
   "metadata": {},
   "outputs": [],
   "source": [
    "print('Model accuracy score: {0:0.4f}'. format(accuracy_score(y_test, y_pred_test)))"
   ]
  },
  {
   "cell_type": "code",
   "execution_count": null,
   "id": "a2c703a4",
   "metadata": {},
   "outputs": [],
   "source": [
    "# import Random Forest classifier\n",
    "\n",
    "from sklearn.ensemble import RandomForestClassifier\n",
    "\n",
    "\n",
    "\n",
    "# instantiate the classifier \n",
    "\n",
    "rfc = RandomForestClassifier(n_estimators=100, random_state=0)\n",
    "\n",
    "\n",
    "\n",
    "# fit the model\n",
    "\n",
    "rfc.fit(X_train, y_train)\n",
    "\n",
    "\n",
    "\n",
    "# Predict the Test set results\n",
    "\n",
    "y_pred = rfc.predict(X_test)\n",
    "\n",
    "print('Model accuracy score with 10 decision-trees : {0:0.4f}'. format(accuracy_score(y_test, y_pred)))"
   ]
  }
 ],
 "metadata": {
  "kernelspec": {
   "display_name": "Python 3",
   "language": "python",
   "name": "python3"
  },
  "language_info": {
   "codemirror_mode": {
    "name": "ipython",
    "version": 3
   },
   "file_extension": ".py",
   "mimetype": "text/x-python",
   "name": "python",
   "nbconvert_exporter": "python",
   "pygments_lexer": "ipython3",
   "version": "3.8.8"
  }
 },
 "nbformat": 4,
 "nbformat_minor": 5
}
