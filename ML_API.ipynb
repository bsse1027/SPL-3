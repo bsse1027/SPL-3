{
 "cells": [
  {
   "cell_type": "code",
   "execution_count": 1,
   "id": "7b98867f",
   "metadata": {},
   "outputs": [],
   "source": [
    "from joblib import Parallel, delayed\n",
    "import joblib\n",
    "import numpy as np\n",
    "import pandas as pd\n",
    "from sklearn.model_selection import train_test_split\n",
    "# import SVC classifier\n",
    "from sklearn.svm import SVC\n",
    "# import metrics to compute accuracy\n",
    "from sklearn.metrics import accuracy_score\n",
    "from sklearn.model_selection import cross_val_score"
   ]
  },
  {
   "cell_type": "code",
   "execution_count": 2,
   "id": "0b2dcdf5",
   "metadata": {},
   "outputs": [],
   "source": [
    "import os\n",
    "from flask import Flask, flash, request, redirect, url_for, session\n",
    "from werkzeug.utils import secure_filename\n",
    "from flask_cors import CORS, cross_origin\n",
    "import logging\n",
    "from flask import Response\n",
    "from flask import send_file"
   ]
  },
  {
   "cell_type": "code",
   "execution_count": null,
   "id": "78f7e0df",
   "metadata": {},
   "outputs": [],
   "source": []
  },
  {
   "cell_type": "code",
   "execution_count": null,
   "id": "b2888984",
   "metadata": {},
   "outputs": [],
   "source": [
    "# X_test = pd.read_csv('testData.csv')\n",
    "# y_test = X_test['isAnomaly']\n",
    "# final_data = test_data.drop(['isAnomaly', 'Unnamed: 0', 'device.deviceCategory', 'date', 'geoNetwork.country', 'trafficSource.keyword', 'hits', 'reason'], axis=1)"
   ]
  },
  {
   "cell_type": "code",
   "execution_count": null,
   "id": "f8cab6d1",
   "metadata": {},
   "outputs": [],
   "source": [
    "# final_data = X_test.drop(['isAnomaly', 'Unnamed: 0.1','Unnamed: 0', 'device.deviceCategory', 'date', 'geoNetwork.country', 'trafficSource.keyword', 'hits', 'reason'], axis=1)\n",
    "# final_data"
   ]
  },
  {
   "cell_type": "code",
   "execution_count": null,
   "id": "bbd12d03",
   "metadata": {},
   "outputs": [],
   "source": [
    "# y_pred = svm.predict(final_data)"
   ]
  },
  {
   "cell_type": "code",
   "execution_count": null,
   "id": "cf37ce85",
   "metadata": {},
   "outputs": [],
   "source": [
    "# X_test['isAnomaly'] = y_pred"
   ]
  },
  {
   "cell_type": "code",
   "execution_count": null,
   "id": "cfc36d6c",
   "metadata": {},
   "outputs": [
    {
     "name": "stdout",
     "output_type": "stream",
     "text": [
      " * Serving Flask app '__main__'\n",
      " * Debug mode: on\n"
     ]
    },
    {
     "name": "stderr",
     "output_type": "stream",
     "text": [
      "WARNING: This is a development server. Do not use it in a production deployment. Use a production WSGI server instead.\n",
      " * Running on all addresses (0.0.0.0)\n",
      " * Running on http://127.0.0.1:5000\n",
      " * Running on http://192.168.0.174:5000\n",
      "Press CTRL+C to quit\n",
      "127.0.0.1 - - [05/Dec/2022 06:02:15] \"GET / HTTP/1.1\" 404 -\n",
      "C:\\Users\\iftit\\AppData\\Local\\Temp\\ipykernel_6216\\2692086273.py:31: DtypeWarning: Columns (12) have mixed types. Specify dtype option on import or set low_memory=False.\n",
      "  X_test = pd.read_csv('testData.csv')\n",
      "127.0.0.1 - - [05/Dec/2022 06:07:20] \"GET /process_data HTTP/1.1\" 200 -\n",
      "127.0.0.1 - - [05/Dec/2022 06:07:44] \"GET /get_data HTTP/1.1\" 200 -\n",
      "127.0.0.1 - - [05/Dec/2022 06:08:03] \"GET /get_data HTTP/1.1\" 200 -\n",
      "127.0.0.1 - - [05/Dec/2022 06:08:07] \"GET /get_data HTTP/1.1\" 200 -\n",
      "127.0.0.1 - - [05/Dec/2022 06:16:02] \"GET / HTTP/1.1\" 404 -\n",
      "192.168.0.174 - - [05/Dec/2022 06:16:04] \"GET / HTTP/1.1\" 404 -\n",
      "192.168.0.100 - - [05/Dec/2022 06:16:24] \"GET / HTTP/1.1\" 404 -\n",
      "192.168.0.100 - - [05/Dec/2022 06:16:24] \"GET /favicon.ico HTTP/1.1\" 404 -\n"
     ]
    }
   ],
   "source": [
    "uploaded_df= \"\"\n",
    "X_test=\"\"\n",
    "UPLOAD_FOLDER = 'D:/uploads'\n",
    "ALLOWED_EXTENSIONS = {'csv'}\n",
    " \n",
    "app = Flask(__name__, template_folder='templateFiles', static_folder='staticFiles')\n",
    "app.config['UPLOAD_FOLDER'] = UPLOAD_FOLDER\n",
    "\n",
    "@app.route('/upload_data',  methods=(\"POST\", \"GET\"))\n",
    "def uploadFile():\n",
    "    if request.method == 'POST':\n",
    "        # upload file flask\n",
    "        global uploaded_df\n",
    "        uploaded_df = request.files['uploaded-file']\n",
    " \n",
    "        # Extracting uploaded data file name\n",
    "        data_filename = secure_filename(uploaded_df.filename)\n",
    " \n",
    "        # flask upload file to database (defined uploaded folder in static path)\n",
    "        uploaded_df.save(\"./\".join([data_filename]))\n",
    " \n",
    "        # Storing uploaded file path in flask session\n",
    "        session['uploaded_data_file_path'] = os.path.join(app.config['UPLOAD_FOLDER'], data_filename)\n",
    " \n",
    "        return \"Success\", 200\n",
    "\n",
    "@app.route('/process_data',  methods=[\"GET\"])\n",
    "def process_data():\n",
    "    svm = joblib.load('svm.pkl')\n",
    "    global X_test\n",
    "    X_test = pd.read_csv('testData.csv')\n",
    "#     X_test = uploaded_df\n",
    "    final_data = X_test.drop(['isAnomaly', 'Unnamed: 0.1','Unnamed: 0', 'device.deviceCategory', 'date', 'geoNetwork.country', 'trafficSource.keyword', 'hits', 'reason'], axis=1)\n",
    "    y_pred = svm.predict(final_data)\n",
    "    X_test['isAnomaly'] = y_pred\n",
    "    X_test.to_csv('./fullnfinal.csv')\n",
    "    return \"Success\", 200\n",
    "\n",
    "@app.route('/get_data',  methods=[\"GET\"])\n",
    "def get_data():\n",
    "    csv_path = './fullnfinal.csv'\n",
    "    return send_file(csv_path, as_attachment=True)\n",
    "\n",
    "if __name__ == \"__main__\":\n",
    "    app.secret_key = os.urandom(24)\n",
    "    app.run(debug=True,host=\"0.0.0.0\",use_reloader=False)\n",
    "\n",
    "flask_cors.CORS(app, expose_headers='Authorization')"
   ]
  },
  {
   "cell_type": "code",
   "execution_count": null,
   "id": "068f55a5",
   "metadata": {},
   "outputs": [],
   "source": []
  }
 ],
 "metadata": {
  "kernelspec": {
   "display_name": "Python 3 (ipykernel)",
   "language": "python",
   "name": "python3"
  },
  "language_info": {
   "codemirror_mode": {
    "name": "ipython",
    "version": 3
   },
   "file_extension": ".py",
   "mimetype": "text/x-python",
   "name": "python",
   "nbconvert_exporter": "python",
   "pygments_lexer": "ipython3",
   "version": "3.10.6"
  }
 },
 "nbformat": 4,
 "nbformat_minor": 5
}
