{
 "cells": [
  {
   "cell_type": "code",
   "execution_count": 1,
   "id": "7b98867f",
   "metadata": {},
   "outputs": [],
   "source": [
    "from joblib import Parallel, delayed\n",
    "import joblib\n",
    "import numpy as np\n",
    "import pandas as pd\n",
    "from sklearn.model_selection import train_test_split\n",
    "# import SVC classifier\n",
    "from sklearn.svm import SVC\n",
    "# import metrics to compute accuracy\n",
    "from sklearn.metrics import accuracy_score\n",
    "from sklearn.model_selection import cross_val_score"
   ]
  },
  {
   "cell_type": "code",
   "execution_count": 2,
   "id": "0b2dcdf5",
   "metadata": {},
   "outputs": [],
   "source": [
    "import os\n",
    "from flask import Flask, flash, request, redirect, url_for, session, jsonify\n",
    "from werkzeug.utils import secure_filename\n",
    "from flask_cors import CORS, cross_origin\n",
    "import logging\n",
    "from flask import Response\n",
    "from flask import send_file\n",
    "from flask import Flask\n",
    "from flask_cors import CORS, cross_origin"
   ]
  },
  {
   "cell_type": "code",
   "execution_count": null,
   "id": "78f7e0df",
   "metadata": {},
   "outputs": [],
   "source": [
    "svm = joblib.load('svm.pkl')"
   ]
  },
  {
   "cell_type": "code",
   "execution_count": null,
   "id": "b2888984",
   "metadata": {},
   "outputs": [],
   "source": [
    "X_test = pd.read_csv('testData.csv')\n",
    "dummy_data = X_test.sample(frac =.0001)\n",
    "dummy_data.to_csv('./dummy.csv')"
   ]
  },
  {
   "cell_type": "code",
   "execution_count": null,
   "id": "f8cab6d1",
   "metadata": {},
   "outputs": [],
   "source": [
    "# final_data = X_test.drop(['isAnomaly', 'Unnamed: 0.1','Unnamed: 0', 'device.deviceCategory', 'date', 'geoNetwork.country', 'trafficSource.keyword', 'hits', 'reason'], axis=1)\n",
    "# final_data"
   ]
  },
  {
   "cell_type": "code",
   "execution_count": null,
   "id": "bbd12d03",
   "metadata": {},
   "outputs": [],
   "source": [
    "svm = joblib.load('svm.pkl')\n",
    "# X_test = pd.read_csv('./testData.csv')\n",
    "#     X_test = uploaded_df\n",
    "# final_data = X_test.drop(['isAnomaly', 'Unnamed: 0.1','Unnamed: 0', 'device.deviceCategory', 'date', 'geoNetwork.country', 'trafficSource.keyword', 'hits', 'reason'], axis=1)\n",
    "# y_pred = svm.predict(final_data)\n",
    "# X_test['isAnomaly'] = y_pred\n",
    "# X_test.to_csv('./fullnfinal.csv')\n",
    "# X_test"
   ]
  },
  {
   "cell_type": "code",
   "execution_count": null,
   "id": "cf37ce85",
   "metadata": {},
   "outputs": [],
   "source": [
    "# X_test['isAnomaly'] = y_pred"
   ]
  },
  {
   "cell_type": "code",
   "execution_count": null,
   "id": "cfc36d6c",
   "metadata": {
    "scrolled": true
   },
   "outputs": [
    {
     "name": "stdout",
     "output_type": "stream",
     "text": [
      " * Serving Flask app \"__main__\" (lazy loading)\n",
      " * Environment: production\n",
      "   WARNING: This is a development server. Do not use it in a production deployment.\n",
      "   Use a production WSGI server instead.\n",
      " * Debug mode: off\n"
     ]
    },
    {
     "name": "stderr",
     "output_type": "stream",
     "text": [
      " * Running on http://127.0.0.1:5000/ (Press CTRL+C to quit)\n",
      "127.0.0.1 - - [06/Dec/2022 16:24:42] \"\u001b[37mPOST /upload_data HTTP/1.1\u001b[0m\" 200 -\n",
      "127.0.0.1 - - [06/Dec/2022 16:24:45] \"\u001b[37mGET /process_data HTTP/1.1\u001b[0m\" 200 -\n",
      "127.0.0.1 - - [06/Dec/2022 16:24:48] \"\u001b[37mGET /get_data HTTP/1.1\u001b[0m\" 200 -\n",
      "127.0.0.1 - - [06/Dec/2022 16:25:39] \"\u001b[37mPOST /upload_data HTTP/1.1\u001b[0m\" 200 -\n",
      "127.0.0.1 - - [06/Dec/2022 16:25:43] \"\u001b[37mGET /process_data HTTP/1.1\u001b[0m\" 200 -\n",
      "127.0.0.1 - - [06/Dec/2022 16:25:47] \"\u001b[37mGET /get_data HTTP/1.1\u001b[0m\" 200 -\n",
      "127.0.0.1 - - [06/Dec/2022 16:26:23] \"\u001b[37mGET /get_data HTTP/1.1\u001b[0m\" 200 -\n",
      "127.0.0.1 - - [06/Dec/2022 16:33:44] \"\u001b[37mPOST /upload_data HTTP/1.1\u001b[0m\" 200 -\n",
      "127.0.0.1 - - [06/Dec/2022 16:33:49] \"\u001b[37mGET /process_data HTTP/1.1\u001b[0m\" 200 -\n",
      "127.0.0.1 - - [06/Dec/2022 16:33:51] \"\u001b[37mGET /get_data HTTP/1.1\u001b[0m\" 200 -\n",
      "127.0.0.1 - - [06/Dec/2022 16:33:51] \"\u001b[37mGET /get_data HTTP/1.1\u001b[0m\" 200 -\n",
      "127.0.0.1 - - [06/Dec/2022 16:33:51] \"\u001b[37mGET /get_data HTTP/1.1\u001b[0m\" 200 -\n",
      "127.0.0.1 - - [06/Dec/2022 16:34:28] \"\u001b[37mPOST /upload_data HTTP/1.1\u001b[0m\" 200 -\n",
      "127.0.0.1 - - [06/Dec/2022 16:35:15] \"\u001b[37mGET /process_data HTTP/1.1\u001b[0m\" 200 -\n",
      "127.0.0.1 - - [06/Dec/2022 16:35:17] \"\u001b[37mGET /get_data HTTP/1.1\u001b[0m\" 200 -\n",
      "127.0.0.1 - - [06/Dec/2022 16:35:17] \"\u001b[37mGET /get_data HTTP/1.1\u001b[0m\" 200 -\n",
      "127.0.0.1 - - [06/Dec/2022 16:35:17] \"\u001b[37mGET /get_data HTTP/1.1\u001b[0m\" 200 -\n"
     ]
    }
   ],
   "source": [
    "uploaded_df= \"\"\n",
    "data_filename= \"\"\n",
    "X_test=\"\"\n",
    "UPLOAD_FOLDER = 'D:/uploads'\n",
    "ALLOWED_EXTENSIONS = {'csv'}\n",
    " \n",
    "app = Flask(__name__, template_folder='templateFiles', static_folder='staticFiles')\n",
    "app.config['UPLOAD_FOLDER'] = UPLOAD_FOLDER\n",
    "CORS(app)\n",
    "cors = CORS(app, resources = {\n",
    "    r\"/*\" : {\n",
    "        \"origins\" : \"*\"\n",
    "    }\n",
    "})\n",
    "\n",
    "@app.route('/',  methods=(\"POST\", \"GET\"))\n",
    "# @cross_origin(origins = ['http://localhost:3000/'])\n",
    "def okay():\n",
    "        return \"Success\", 200\n",
    "\n",
    "@app.route('/upload_data',  methods=(\"POST\", \"GET\"))\n",
    "# @cross_origin(origins = ['http://localhost:3000/'])\n",
    "def uploadFile():\n",
    "    if request.method == 'POST':\n",
    "        # upload file flask\n",
    "        global data_filename\n",
    "        uploaded_df = request.files['uploaded-file']\n",
    " \n",
    "        # Extracting uploaded data file name\n",
    "        data_filename = secure_filename(uploaded_df.filename)\n",
    " \n",
    "        # flask upload file to database (defined uploaded folder in static path)\n",
    "        uploaded_df.save(\"./\".join([data_filename]))\n",
    " \n",
    "        # Storing uploaded file path in flask session\n",
    "        session['uploaded_data_file_path'] = os.path.join(app.config['UPLOAD_FOLDER'], data_filename)\n",
    " \n",
    "        return \"Success\", 200\n",
    "\n",
    "@app.route('/process_data',  methods=[\"GET\"])\n",
    "def process_data():\n",
    "    response_dict = {}\n",
    "    svm = joblib.load('./svm.pkl')\n",
    "    X_test = pd.read_csv(data_filename)\n",
    "#     X_test = uploaded_df\n",
    "    final_data = X_test.drop(['isAnomaly','Unnamed: 0.1.1','Unnamed: 0.1','Unnamed: 0', 'device.deviceCategory', 'date', 'geoNetwork.country', 'trafficSource.keyword', 'hits', 'reason'], axis=1)\n",
    "    y_pred = svm.predict(final_data)\n",
    "    X_test['isAnomaly'] = y_pred\n",
    "    X_test.to_csv('./fullnfinal.csv')\n",
    "    test2 = X_test[X_test['isAnomaly'] == 1]\n",
    "    len_anomaly = len(test2)\n",
    "    len_normal = len(X_test)\n",
    "    final_anomaly = (len_anomaly / len_normal)*100\n",
    "    n = 5\n",
    "    response_dict['anomaly'] = len_anomaly\n",
    "    response_dict['anomalyPer'] = final_anomaly\n",
    "    response_dict['country'] = test2['geoNetwork.country'].value_counts()[:n].index.tolist()\n",
    "    response_dict['date'] = test2['date'].value_counts()[:n].index.tolist()\n",
    "    response_dict['maxHit'] = int(test2['totals.hits'].value_counts().idxmax())\n",
    "    response_dict['maxTime'] = int(test2['totals.timeOnSite'].value_counts().idxmax())\n",
    "    response_dict['keyword'] = str(test2['trafficSource.keyword'].value_counts().idxmax())\n",
    "    response_dict['device'] = str(test2['device.deviceCategory'].value_counts().idxmax())\n",
    "    response_dict['maxPageView'] = int(test2['totals.pageviews'].value_counts().idxmax())\n",
    "    return jsonify(response_dict), 200\n",
    "\n",
    "@app.route('/get_data',  methods=[\"GET\"])\n",
    "def get_data():\n",
    "    csv_path = './fullnfinal.csv'\n",
    "    return send_file(csv_path, as_attachment=True)\n",
    "\n",
    "if __name__ == \"__main__\":\n",
    "    CORS(app)\n",
    "    cors = CORS(app, resources = {\n",
    "        r\"/*\" : {\n",
    "            \"origins\" : \"*\"\n",
    "        }\n",
    "    })\n",
    "    app.secret_key = os.urandom(24)\n",
    "    app.run()\n",
    "    logging.getLogger('flask_cors').level = logging.DEBUG\n",
    "#     app.run(debug=True,host=\"0.0.0.0\",use_reloader=False)\n",
    "\n",
    "# flask_cors.CORS(app, expose_headers='Authorization')"
   ]
  },
  {
   "cell_type": "code",
   "execution_count": null,
   "id": "068f55a5",
   "metadata": {},
   "outputs": [],
   "source": [
    "small_test = pd.read_csv('testData.csv')"
   ]
  },
  {
   "cell_type": "code",
   "execution_count": null,
   "id": "85f97831",
   "metadata": {},
   "outputs": [],
   "source": [
    "ok = small_test[small_test['isAnomaly'] == 1]\n",
    "ok.to_csv('./dummysmall.csv')"
   ]
  },
  {
   "cell_type": "code",
   "execution_count": null,
   "id": "37a1ba0e",
   "metadata": {},
   "outputs": [],
   "source": [
    "response_dict = {}\n",
    "svm = joblib.load('./svm.pkl')\n",
    "X_test = pd.read_csv('dummysmall.csv')\n",
    "#     X_test = uploaded_df\n",
    "final_data = X_test.drop(['isAnomaly','Unnamed: 0.1.1','Unnamed: 0.1','Unnamed: 0', 'device.deviceCategory', 'date', 'geoNetwork.country', 'trafficSource.keyword', 'hits', 'reason'], axis=1)\n",
    "y_pred = svm.predict(final_data)\n",
    "X_test['isAnomaly'] = y_pred\n",
    "X_test.to_csv('./fullnfinal.csv')\n",
    "test2 = X_test[X_test['isAnomaly'] == 1]\n",
    "n = 5\n",
    "response_dict['country'] = test2['geoNetwork.country'].value_counts()[:n].index.tolist()\n",
    "response_dict['date'] = test2['date'].value_counts()[:n].index.tolist()\n",
    "response_dict['maxHit'] = int(test2['totals.hits'].value_counts().idxmax())\n",
    "response_dict['maxTime'] = test2['totals.timeOnSite'].value_counts().idxmax()\n",
    "response_dict['keyword'] = (test2['trafficSource.keyword'].value_counts().idxmax())\n",
    "response_dict['device'] = test2['device.deviceCategory'].value_counts().idxmax()\n",
    "response_dict['maxPageView'] = test2['totals.pageviews'].value_counts().idxmax()\n",
    "response_dict"
   ]
  },
  {
   "cell_type": "code",
   "execution_count": null,
   "id": "5a958a9f",
   "metadata": {},
   "outputs": [],
   "source": []
  }
 ],
 "metadata": {
  "kernelspec": {
   "display_name": "Python 3",
   "language": "python",
   "name": "python3"
  },
  "language_info": {
   "codemirror_mode": {
    "name": "ipython",
    "version": 3
   },
   "file_extension": ".py",
   "mimetype": "text/x-python",
   "name": "python",
   "nbconvert_exporter": "python",
   "pygments_lexer": "ipython3",
   "version": "3.8.8"
  }
 },
 "nbformat": 4,
 "nbformat_minor": 5
}
