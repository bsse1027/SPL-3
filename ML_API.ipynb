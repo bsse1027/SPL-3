{
 "cells": [
  {
   "cell_type": "code",
   "execution_count": 1,
   "id": "7b98867f",
   "metadata": {},
   "outputs": [],
   "source": [
    "from joblib import Parallel, delayed\n",
    "import joblib\n",
    "import numpy as np\n",
    "import pandas as pd\n",
    "from sklearn.model_selection import train_test_split\n",
    "# import SVC classifier\n",
    "from sklearn.svm import SVC\n",
    "# import metrics to compute accuracy\n",
    "from sklearn.metrics import accuracy_score\n",
    "from sklearn.model_selection import cross_val_score"
   ]
  },
  {
   "cell_type": "code",
   "execution_count": 2,
   "id": "0b2dcdf5",
   "metadata": {},
   "outputs": [],
   "source": [
    "import os\n",
    "from flask import Flask, flash, request, redirect, url_for, session, jsonify\n",
    "from werkzeug.utils import secure_filename\n",
    "from flask_cors import CORS, cross_origin\n",
    "import logging\n",
    "from flask import Response\n",
    "from flask import send_file"
   ]
  },
  {
   "cell_type": "code",
   "execution_count": null,
   "id": "78f7e0df",
   "metadata": {},
   "outputs": [],
   "source": [
    "svm = joblib.load('svm.pkl')"
   ]
  },
  {
   "cell_type": "code",
   "execution_count": null,
   "id": "b2888984",
   "metadata": {},
   "outputs": [],
   "source": [
    "X_test = pd.read_csv('testData.csv')\n",
    "dummy_data = X_test.sample(frac =.0001)\n",
    "dummy_data.to_csv('./dummy.csv')"
   ]
  },
  {
   "cell_type": "code",
   "execution_count": null,
   "id": "f8cab6d1",
   "metadata": {},
   "outputs": [],
   "source": [
    "# final_data = X_test.drop(['isAnomaly', 'Unnamed: 0.1','Unnamed: 0', 'device.deviceCategory', 'date', 'geoNetwork.country', 'trafficSource.keyword', 'hits', 'reason'], axis=1)\n",
    "# final_data"
   ]
  },
  {
   "cell_type": "code",
   "execution_count": null,
   "id": "bbd12d03",
   "metadata": {},
   "outputs": [],
   "source": [
    "svm = joblib.load('svm.pkl')\n",
    "# X_test = pd.read_csv('./testData.csv')\n",
    "#     X_test = uploaded_df\n",
    "# final_data = X_test.drop(['isAnomaly', 'Unnamed: 0.1','Unnamed: 0', 'device.deviceCategory', 'date', 'geoNetwork.country', 'trafficSource.keyword', 'hits', 'reason'], axis=1)\n",
    "# y_pred = svm.predict(final_data)\n",
    "# X_test['isAnomaly'] = y_pred\n",
    "# X_test.to_csv('./fullnfinal.csv')\n",
    "# X_test"
   ]
  },
  {
   "cell_type": "code",
   "execution_count": null,
   "id": "cf37ce85",
   "metadata": {},
   "outputs": [],
   "source": [
    "# X_test['isAnomaly'] = y_pred"
   ]
  },
  {
   "cell_type": "code",
   "execution_count": null,
   "id": "cfc36d6c",
   "metadata": {
    "scrolled": true
   },
   "outputs": [
    {
     "name": "stdout",
     "output_type": "stream",
     "text": [
      " * Serving Flask app \"__main__\" (lazy loading)\n",
      " * Environment: production\n",
      "   WARNING: This is a development server. Do not use it in a production deployment.\n",
      "   Use a production WSGI server instead.\n",
      " * Debug mode: on\n"
     ]
    },
    {
     "name": "stderr",
     "output_type": "stream",
     "text": [
      " * Running on http://0.0.0.0:5000/ (Press CTRL+C to quit)\n",
      "127.0.0.1 - - [06/Dec/2022 04:54:23] \"\u001b[37mPOST /upload_data HTTP/1.1\u001b[0m\" 200 -\n",
      "127.0.0.1 - - [06/Dec/2022 04:54:37] \"\u001b[37mGET /process_data HTTP/1.1\u001b[0m\" 200 -\n",
      "127.0.0.1 - - [06/Dec/2022 04:54:55] \"\u001b[37mGET /get_data HTTP/1.1\u001b[0m\" 200 -\n",
      "127.0.0.1 - - [06/Dec/2022 05:20:32] \"\u001b[33mGET /process_data/ HTTP/1.1\u001b[0m\" 404 -\n",
      "127.0.0.1 - - [06/Dec/2022 05:20:37] \"\u001b[33mGET /process_data/ HTTP/1.1\u001b[0m\" 404 -\n",
      "127.0.0.1 - - [06/Dec/2022 05:20:38] \"\u001b[33mGET /process_data/ HTTP/1.1\u001b[0m\" 404 -\n",
      "127.0.0.1 - - [06/Dec/2022 05:20:39] \"\u001b[33mGET /process_data/ HTTP/1.1\u001b[0m\" 404 -\n",
      "127.0.0.1 - - [06/Dec/2022 05:20:45] \"\u001b[33mGET /process_data/ HTTP/1.1\u001b[0m\" 404 -\n",
      "127.0.0.1 - - [06/Dec/2022 05:21:28] \"\u001b[33mGET /process_data/ HTTP/1.1\u001b[0m\" 404 -\n",
      "127.0.0.1 - - [06/Dec/2022 05:21:30] \"\u001b[33mGET /process_data/ HTTP/1.1\u001b[0m\" 404 -\n"
     ]
    }
   ],
   "source": [
    "uploaded_df= \"\"\n",
    "data_filename= \"\"\n",
    "X_test=\"\"\n",
    "UPLOAD_FOLDER = 'D:/uploads'\n",
    "ALLOWED_EXTENSIONS = {'csv'}\n",
    " \n",
    "app = Flask(__name__, template_folder='templateFiles', static_folder='staticFiles')\n",
    "app.config['UPLOAD_FOLDER'] = UPLOAD_FOLDER\n",
    "\n",
    "@app.route('/upload_data',  methods=(\"POST\", \"GET\"))\n",
    "def uploadFile():\n",
    "    if request.method == 'POST':\n",
    "        # upload file flask\n",
    "        global data_filename\n",
    "        uploaded_df = request.files['uploaded-file']\n",
    " \n",
    "        # Extracting uploaded data file name\n",
    "        data_filename = secure_filename(uploaded_df.filename)\n",
    " \n",
    "        # flask upload file to database (defined uploaded folder in static path)\n",
    "        uploaded_df.save(\"./\".join([data_filename]))\n",
    " \n",
    "        # Storing uploaded file path in flask session\n",
    "        session['uploaded_data_file_path'] = os.path.join(app.config['UPLOAD_FOLDER'], data_filename)\n",
    " \n",
    "        return \"Success\", 200\n",
    "\n",
    "@app.route('/process_data',  methods=[\"GET\"])\n",
    "def process_data():\n",
    "    response_dict = {}\n",
    "    svm = joblib.load('./svm.pkl')\n",
    "    X_test = pd.read_csv(data_filename)\n",
    "#     X_test = uploaded_df\n",
    "    final_data = X_test.drop(['isAnomaly','Unnamed: 0.1.1','Unnamed: 0.1','Unnamed: 0', 'device.deviceCategory', 'date', 'geoNetwork.country', 'trafficSource.keyword', 'hits', 'reason'], axis=1)\n",
    "    y_pred = svm.predict(final_data)\n",
    "    X_test['isAnomaly'] = y_pred\n",
    "    X_test.to_csv('./fullnfinal.csv')\n",
    "    test2 = X_test[X_test['isAnomaly'] == 1]\n",
    "    n = 5\n",
    "    response_dict['country'] = test2['geoNetwork.country'].value_counts()[:n].index.tolist()\n",
    "    response_dict['date'] = test2['date'].value_counts()[:n].index.tolist()\n",
    "    response_dict['maxHit'] = int(test2['totals.hits'].value_counts().idxmax())\n",
    "    response_dict['maxTime'] = int(test2['totals.timeOnSite'].value_counts().idxmax())\n",
    "    response_dict['keyword'] = str(test2['trafficSource.keyword'].value_counts().idxmax())\n",
    "    response_dict['device'] = str(test2['device.deviceCategory'].value_counts().idxmax())\n",
    "    response_dict['maxPageView'] = int(test2['totals.pageviews'].value_counts().idxmax())\n",
    "    return jsonify(response_dict), 200\n",
    "\n",
    "@app.route('/get_data',  methods=[\"GET\"])\n",
    "def get_data():\n",
    "    csv_path = './fullnfinal.csv'\n",
    "    return send_file(csv_path, as_attachment=True)\n",
    "\n",
    "if __name__ == \"__main__\":\n",
    "    app.secret_key = os.urandom(24)\n",
    "    app.run(debug=True,host=\"0.0.0.0\",use_reloader=False)\n",
    "\n",
    "flask_cors.CORS(app, expose_headers='Authorization')"
   ]
  },
  {
   "cell_type": "code",
   "execution_count": null,
   "id": "068f55a5",
   "metadata": {},
   "outputs": [],
   "source": [
    "small_test = pd.read_csv('testData.csv')"
   ]
  },
  {
   "cell_type": "code",
   "execution_count": null,
   "id": "85f97831",
   "metadata": {},
   "outputs": [],
   "source": [
    "ok = small_test[small_test['isAnomaly'] == 1]\n",
    "ok.to_csv('./dummysmall.csv')"
   ]
  },
  {
   "cell_type": "code",
   "execution_count": 4,
   "id": "3f90adca",
   "metadata": {},
   "outputs": [
    {
     "ename": "NameError",
     "evalue": "name 'String' is not defined",
     "output_type": "error",
     "traceback": [
      "\u001b[1;31m---------------------------------------------------------------------------\u001b[0m",
      "\u001b[1;31mNameError\u001b[0m                                 Traceback (most recent call last)",
      "\u001b[1;32m<ipython-input-4-b0cd860a2db8>\u001b[0m in \u001b[0;36m<module>\u001b[1;34m\u001b[0m\n\u001b[0;32m     13\u001b[0m \u001b[0mresponse_dict\u001b[0m\u001b[1;33m[\u001b[0m\u001b[1;34m'maxHit'\u001b[0m\u001b[1;33m]\u001b[0m \u001b[1;33m=\u001b[0m \u001b[0mint\u001b[0m\u001b[1;33m(\u001b[0m\u001b[0mtest2\u001b[0m\u001b[1;33m[\u001b[0m\u001b[1;34m'totals.hits'\u001b[0m\u001b[1;33m]\u001b[0m\u001b[1;33m.\u001b[0m\u001b[0mvalue_counts\u001b[0m\u001b[1;33m(\u001b[0m\u001b[1;33m)\u001b[0m\u001b[1;33m.\u001b[0m\u001b[0midxmax\u001b[0m\u001b[1;33m(\u001b[0m\u001b[1;33m)\u001b[0m\u001b[1;33m)\u001b[0m\u001b[1;33m\u001b[0m\u001b[1;33m\u001b[0m\u001b[0m\n\u001b[0;32m     14\u001b[0m \u001b[0mresponse_dict\u001b[0m\u001b[1;33m[\u001b[0m\u001b[1;34m'maxTime'\u001b[0m\u001b[1;33m]\u001b[0m \u001b[1;33m=\u001b[0m \u001b[0mtest2\u001b[0m\u001b[1;33m[\u001b[0m\u001b[1;34m'totals.timeOnSite'\u001b[0m\u001b[1;33m]\u001b[0m\u001b[1;33m.\u001b[0m\u001b[0mvalue_counts\u001b[0m\u001b[1;33m(\u001b[0m\u001b[1;33m)\u001b[0m\u001b[1;33m.\u001b[0m\u001b[0midxmax\u001b[0m\u001b[1;33m(\u001b[0m\u001b[1;33m)\u001b[0m\u001b[1;33m\u001b[0m\u001b[1;33m\u001b[0m\u001b[0m\n\u001b[1;32m---> 15\u001b[1;33m \u001b[0mresponse_dict\u001b[0m\u001b[1;33m[\u001b[0m\u001b[1;34m'keyword'\u001b[0m\u001b[1;33m]\u001b[0m \u001b[1;33m=\u001b[0m \u001b[0mString\u001b[0m\u001b[1;33m(\u001b[0m\u001b[0mtest2\u001b[0m\u001b[1;33m[\u001b[0m\u001b[1;34m'trafficSource.keyword'\u001b[0m\u001b[1;33m]\u001b[0m\u001b[1;33m.\u001b[0m\u001b[0mvalue_counts\u001b[0m\u001b[1;33m(\u001b[0m\u001b[1;33m)\u001b[0m\u001b[1;33m.\u001b[0m\u001b[0midxmax\u001b[0m\u001b[1;33m(\u001b[0m\u001b[1;33m)\u001b[0m\u001b[1;33m)\u001b[0m\u001b[1;33m\u001b[0m\u001b[1;33m\u001b[0m\u001b[0m\n\u001b[0m\u001b[0;32m     16\u001b[0m \u001b[0mresponse_dict\u001b[0m\u001b[1;33m[\u001b[0m\u001b[1;34m'device'\u001b[0m\u001b[1;33m]\u001b[0m \u001b[1;33m=\u001b[0m \u001b[0mtest2\u001b[0m\u001b[1;33m[\u001b[0m\u001b[1;34m'device.deviceCategory'\u001b[0m\u001b[1;33m]\u001b[0m\u001b[1;33m.\u001b[0m\u001b[0mvalue_counts\u001b[0m\u001b[1;33m(\u001b[0m\u001b[1;33m)\u001b[0m\u001b[1;33m.\u001b[0m\u001b[0midxmax\u001b[0m\u001b[1;33m(\u001b[0m\u001b[1;33m)\u001b[0m\u001b[1;33m\u001b[0m\u001b[1;33m\u001b[0m\u001b[0m\n\u001b[0;32m     17\u001b[0m \u001b[0mresponse_dict\u001b[0m\u001b[1;33m[\u001b[0m\u001b[1;34m'maxPageView'\u001b[0m\u001b[1;33m]\u001b[0m \u001b[1;33m=\u001b[0m \u001b[0mtest2\u001b[0m\u001b[1;33m[\u001b[0m\u001b[1;34m'totals.pageviews'\u001b[0m\u001b[1;33m]\u001b[0m\u001b[1;33m.\u001b[0m\u001b[0mvalue_counts\u001b[0m\u001b[1;33m(\u001b[0m\u001b[1;33m)\u001b[0m\u001b[1;33m.\u001b[0m\u001b[0midxmax\u001b[0m\u001b[1;33m(\u001b[0m\u001b[1;33m)\u001b[0m\u001b[1;33m\u001b[0m\u001b[1;33m\u001b[0m\u001b[0m\n",
      "\u001b[1;31mNameError\u001b[0m: name 'String' is not defined"
     ]
    }
   ],
   "source": [
    "response_dict = {}\n",
    "svm = joblib.load('./svm.pkl')\n",
    "X_test = pd.read_csv('dummysmall.csv')\n",
    "#     X_test = uploaded_df\n",
    "final_data = X_test.drop(['isAnomaly','Unnamed: 0.1.1','Unnamed: 0.1','Unnamed: 0', 'device.deviceCategory', 'date', 'geoNetwork.country', 'trafficSource.keyword', 'hits', 'reason'], axis=1)\n",
    "y_pred = svm.predict(final_data)\n",
    "X_test['isAnomaly'] = y_pred\n",
    "X_test.to_csv('./fullnfinal.csv')\n",
    "test2 = X_test[X_test['isAnomaly'] == 1]\n",
    "n = 5\n",
    "response_dict['country'] = test2['geoNetwork.country'].value_counts()[:n].index.tolist()\n",
    "response_dict['date'] = test2['date'].value_counts()[:n].index.tolist()\n",
    "response_dict['maxHit'] = int(test2['totals.hits'].value_counts().idxmax())\n",
    "response_dict['maxTime'] = test2['totals.timeOnSite'].value_counts().idxmax()\n",
    "response_dict['keyword'] = (test2['trafficSource.keyword'].value_counts().idxmax())\n",
    "response_dict['device'] = test2['device.deviceCategory'].value_counts().idxmax()\n",
    "response_dict['maxPageView'] = test2['totals.pageviews'].value_counts().idxmax()\n",
    "response_dict"
   ]
  },
  {
   "cell_type": "code",
   "execution_count": null,
   "id": "60b95f30",
   "metadata": {},
   "outputs": [],
   "source": []
  }
 ],
 "metadata": {
  "kernelspec": {
   "display_name": "Python 3",
   "language": "python",
   "name": "python3"
  },
  "language_info": {
   "codemirror_mode": {
    "name": "ipython",
    "version": 3
   },
   "file_extension": ".py",
   "mimetype": "text/x-python",
   "name": "python",
   "nbconvert_exporter": "python",
   "pygments_lexer": "ipython3",
   "version": "3.8.8"
  }
 },
 "nbformat": 4,
 "nbformat_minor": 5
}
