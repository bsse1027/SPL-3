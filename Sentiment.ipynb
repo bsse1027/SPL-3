{
 "cells": [
  {
   "cell_type": "code",
   "execution_count": 1,
   "id": "81772472",
   "metadata": {},
   "outputs": [],
   "source": [
    "from vaderSentiment.vaderSentiment import SentimentIntensityAnalyzer"
   ]
  },
  {
   "cell_type": "code",
   "execution_count": 64,
   "id": "eadbc2b6",
   "metadata": {},
   "outputs": [
    {
     "name": "stdout",
     "output_type": "stream",
     "text": [
      "Poison----------------------------------------------------------- {'neg': 1.0, 'neu': 0.0, 'pos': 0.0, 'compound': -0.5423}\n",
      "0.0\n"
     ]
    }
   ],
   "source": [
    "# --- examples -------\n",
    "sentences = [\"Poison\"]\n",
    "\n",
    "analyzer = SentimentIntensityAnalyzer()\n",
    "for sentence in sentences:\n",
    "    vs = analyzer.polarity_scores(sentence)\n",
    "    print(\"{:-<65} {}\".format(sentence, str(vs)))\n",
    "    print(vs['pos'])"
   ]
  },
  {
   "cell_type": "code",
   "execution_count": 31,
   "id": "68bed9f7",
   "metadata": {},
   "outputs": [],
   "source": [
    "import stanza"
   ]
  },
  {
   "cell_type": "code",
   "execution_count": 33,
   "id": "8c64724a",
   "metadata": {},
   "outputs": [
    {
     "name": "stderr",
     "output_type": "stream",
     "text": [
      "2022-12-03 13:48:51 INFO: Checking for updates to resources.json in case models have been updated.  Note: this behavior can be turned off with download_method=None or download_method=DownloadMethod.REUSE_RESOURCES\n",
      "Downloading https://raw.githubusercontent.com/stanfordnlp/stanza-resources/main/resources_1.4.1.json: 193kB [00:00, 12.1MB/s]                    \n",
      "2022-12-03 13:48:53 INFO: Loading these models for language: en (English):\n",
      "============================\n",
      "| Processor    | Package   |\n",
      "----------------------------\n",
      "| tokenize     | combined  |\n",
      "| pos          | combined  |\n",
      "| lemma        | combined  |\n",
      "| depparse     | combined  |\n",
      "| sentiment    | sstplus   |\n",
      "| constituency | wsj       |\n",
      "| ner          | ontonotes |\n",
      "============================\n",
      "\n",
      "2022-12-03 13:48:53 INFO: Use device: cpu\n",
      "2022-12-03 13:48:53 INFO: Loading: tokenize\n",
      "2022-12-03 13:48:53 INFO: Loading: pos\n",
      "2022-12-03 13:48:53 INFO: Loading: lemma\n",
      "2022-12-03 13:48:53 INFO: Loading: depparse\n",
      "2022-12-03 13:48:53 INFO: Loading: sentiment\n",
      "2022-12-03 13:48:54 INFO: Loading: constituency\n",
      "2022-12-03 13:48:54 INFO: Loading: ner\n",
      "2022-12-03 13:48:55 INFO: Done loading processors!\n"
     ]
    },
    {
     "name": "stdout",
     "output_type": "stream",
     "text": [
      "0 -> 1\n"
     ]
    }
   ],
   "source": [
    "# stanza.download('en')\n",
    "nlp = stanza.Pipeline('en')\n",
    "doc = nlp(\"Barack Obama was born in Hawaii.\")\n",
    "for i, sentence in enumerate(doc.sentences):\n",
    "    print(\"%d -> %d\" % (i, sentence.sentiment))"
   ]
  },
  {
   "cell_type": "code",
   "execution_count": 71,
   "id": "5728dabd",
   "metadata": {},
   "outputs": [
    {
     "name": "stdout",
     "output_type": "stream",
     "text": [
      "0 -> 1\n"
     ]
    }
   ],
   "source": [
    "doc = nlp(\"(not set)\")\n",
    "for i, sentence in enumerate(doc.sentences):\n",
    "    print(\"%d -> %d\" % (i, sentence.sentiment))"
   ]
  }
 ],
 "metadata": {
  "kernelspec": {
   "display_name": "Python 3 (ipykernel)",
   "language": "python",
   "name": "python3"
  },
  "language_info": {
   "codemirror_mode": {
    "name": "ipython",
    "version": 3
   },
   "file_extension": ".py",
   "mimetype": "text/x-python",
   "name": "python",
   "nbconvert_exporter": "python",
   "pygments_lexer": "ipython3",
   "version": "3.10.6"
  }
 },
 "nbformat": 4,
 "nbformat_minor": 5
}
